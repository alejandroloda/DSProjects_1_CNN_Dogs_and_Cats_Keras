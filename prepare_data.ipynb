{
 "cells": [
  {
   "cell_type": "markdown",
   "metadata": {},
   "source": [
    "# Descargar y extraer datos"
   ]
  },
  {
   "cell_type": "code",
   "execution_count": 4,
   "metadata": {
    "ExecuteTime": {
     "end_time": "2020-12-12T13:03:04.095938Z",
     "start_time": "2020-12-12T13:02:57.128887Z"
    },
    "collapsed": true
   },
   "outputs": [
    {
     "name": "stdout",
     "output_type": "stream",
     "text": [
      "Collecting kaggle\n",
      "  Downloading kaggle-1.5.10.tar.gz (59 kB)\n",
      "Requirement already satisfied: six>=1.10 in c:\\programdata\\anaconda3\\lib\\site-packages (from kaggle) (1.15.0)\n",
      "Requirement already satisfied: certifi in c:\\programdata\\anaconda3\\lib\\site-packages (from kaggle) (2020.6.20)\n",
      "Requirement already satisfied: python-dateutil in c:\\programdata\\anaconda3\\lib\\site-packages (from kaggle) (2.8.1)\n",
      "Requirement already satisfied: requests in c:\\programdata\\anaconda3\\lib\\site-packages (from kaggle) (2.24.0)\n",
      "Requirement already satisfied: tqdm in c:\\programdata\\anaconda3\\lib\\site-packages (from kaggle) (4.47.0)\n",
      "Collecting python-slugify\n",
      "  Downloading python-slugify-4.0.1.tar.gz (11 kB)\n",
      "Requirement already satisfied: urllib3 in c:\\programdata\\anaconda3\\lib\\site-packages (from kaggle) (1.25.9)\n",
      "Requirement already satisfied: chardet<4,>=3.0.2 in c:\\programdata\\anaconda3\\lib\\site-packages (from requests->kaggle) (3.0.4)\n",
      "Requirement already satisfied: idna<3,>=2.5 in c:\\programdata\\anaconda3\\lib\\site-packages (from requests->kaggle) (2.10)\n",
      "Collecting text-unidecode>=1.3\n",
      "  Downloading text_unidecode-1.3-py2.py3-none-any.whl (78 kB)\n",
      "Building wheels for collected packages: kaggle, python-slugify\n",
      "  Building wheel for kaggle (setup.py): started\n",
      "  Building wheel for kaggle (setup.py): finished with status 'done'\n",
      "  Created wheel for kaggle: filename=kaggle-1.5.10-py3-none-any.whl size=73274 sha256=ad726ddb5212fd9ec573aa4517a026cb0a6cb870b1aa79b1c2021f690a975bd8\n",
      "  Stored in directory: c:\\users\\usuario\\appdata\\local\\pip\\cache\\wheels\\a6\\c1\\5e\\2b235e19b52c15ad35812881f8de4461399907e219c03bf7b5\n",
      "  Building wheel for python-slugify (setup.py): started\n",
      "  Building wheel for python-slugify (setup.py): finished with status 'done'\n",
      "  Created wheel for python-slugify: filename=python_slugify-4.0.1-py2.py3-none-any.whl size=6774 sha256=464bf05b5f9296d7aba1743f8abfa3c54483b48eb0e284c32c6fda43581b6187\n",
      "  Stored in directory: c:\\users\\usuario\\appdata\\local\\pip\\cache\\wheels\\91\\4d\\4f\\e740a68c215791688c46c4d6251770a570e8dfea91af1acb5c\n",
      "Successfully built kaggle python-slugify\n",
      "Installing collected packages: text-unidecode, python-slugify, kaggle\n",
      "Successfully installed kaggle-1.5.10 python-slugify-4.0.1 text-unidecode-1.3\n"
     ]
    }
   ],
   "source": [
    "!pip install kaggle"
   ]
  },
  {
   "cell_type": "code",
   "execution_count": null,
   "metadata": {},
   "outputs": [],
   "source": [
    "# Si es la primera vez hay que configurar el token"
   ]
  },
  {
   "cell_type": "code",
   "execution_count": 9,
   "metadata": {
    "ExecuteTime": {
     "end_time": "2020-12-12T13:10:19.312379Z",
     "start_time": "2020-12-12T13:09:50.960619Z"
    },
    "collapsed": true
   },
   "outputs": [
    {
     "name": "stdout",
     "output_type": "stream",
     "text": [
      "Downloading dogs-vs-cats.zip to C:\\Users\\USUARIO\\Desktop\\21 Data Science Projects\\1 - CNN Dogs and Cats - Keras\n",
      "\n"
     ]
    },
    {
     "name": "stderr",
     "output_type": "stream",
     "text": [
      "\n",
      "  0%|          | 0.00/812M [00:00<?, ?B/s]\n",
      "  0%|          | 1.00M/812M [00:00<05:03, 2.80MB/s]\n",
      "  0%|          | 3.00M/812M [00:00<03:44, 3.79MB/s]\n",
      "  1%|1         | 10.0M/812M [00:00<02:39, 5.28MB/s]\n",
      "  2%|1         | 13.0M/812M [00:01<02:35, 5.40MB/s]\n",
      "  2%|1         | 16.0M/812M [00:01<01:56, 7.15MB/s]\n",
      "  2%|2         | 19.0M/812M [00:01<01:32, 8.98MB/s]\n",
      "  3%|2         | 22.0M/812M [00:01<01:15, 10.9MB/s]\n",
      "  3%|3         | 25.0M/812M [00:01<01:03, 13.0MB/s]\n",
      "  3%|3         | 28.0M/812M [00:01<01:05, 12.5MB/s]\n",
      "  4%|3         | 31.0M/812M [00:02<00:54, 15.1MB/s]\n",
      "  5%|4         | 39.0M/812M [00:02<00:40, 20.0MB/s]\n",
      "  5%|5         | 44.0M/812M [00:02<00:34, 23.2MB/s]\n",
      "  6%|6         | 50.0M/812M [00:02<00:31, 25.1MB/s]\n",
      "  7%|6         | 54.0M/812M [00:02<00:35, 22.6MB/s]\n",
      "  8%|7         | 62.0M/812M [00:02<00:27, 28.8MB/s]\n",
      "  8%|8         | 67.0M/812M [00:02<00:26, 29.7MB/s]\n",
      "  9%|8         | 72.0M/812M [00:03<00:24, 31.5MB/s]\n",
      " 10%|9         | 78.0M/812M [00:03<00:22, 34.6MB/s]\n",
      " 10%|#         | 82.0M/812M [00:03<00:31, 24.5MB/s]\n",
      " 11%|#         | 89.0M/812M [00:03<00:29, 25.8MB/s]\n",
      " 12%|#1        | 96.0M/812M [00:03<00:23, 31.8MB/s]\n",
      " 12%|#2        | 101M/812M [00:04<00:23, 31.8MB/s] \n",
      " 13%|#3        | 109M/812M [00:04<00:19, 38.7MB/s]\n",
      " 14%|#4        | 117M/812M [00:04<00:15, 45.6MB/s]\n",
      " 15%|#5        | 123M/812M [00:04<00:30, 23.7MB/s]\n",
      " 16%|#5        | 128M/812M [00:05<00:27, 26.4MB/s]\n",
      " 16%|#6        | 133M/812M [00:05<00:25, 27.6MB/s]\n",
      " 17%|#6        | 137M/812M [00:05<00:23, 29.7MB/s]\n",
      " 17%|#7        | 141M/812M [00:05<00:22, 31.4MB/s]\n",
      " 18%|#8        | 148M/812M [00:05<00:18, 37.7MB/s]\n",
      " 19%|#9        | 156M/812M [00:05<00:15, 44.7MB/s]\n",
      " 20%|##        | 164M/812M [00:05<00:13, 51.1MB/s]\n",
      " 21%|##        | 170M/812M [00:06<00:18, 36.4MB/s]\n",
      " 22%|##1       | 177M/812M [00:06<00:15, 42.3MB/s]\n",
      " 23%|##2       | 183M/812M [00:06<00:15, 42.8MB/s]\n",
      " 23%|##3       | 188M/812M [00:06<00:24, 27.1MB/s]\n",
      " 24%|##4       | 196M/812M [00:06<00:19, 33.8MB/s]\n",
      " 25%|##5       | 204M/812M [00:06<00:15, 40.8MB/s]\n",
      " 26%|##5       | 211M/812M [00:06<00:14, 42.6MB/s]\n",
      " 27%|##6       | 217M/812M [00:07<00:24, 25.1MB/s]\n",
      " 27%|##7       | 222M/812M [00:07<00:25, 24.7MB/s]\n",
      " 28%|##7       | 227M/812M [00:07<00:20, 29.3MB/s]\n",
      " 28%|##8       | 231M/812M [00:07<00:19, 31.4MB/s]\n",
      " 29%|##9       | 237M/812M [00:08<00:17, 35.2MB/s]\n",
      " 30%|##9       | 242M/812M [00:08<00:20, 28.5MB/s]\n",
      " 31%|###       | 250M/812M [00:08<00:16, 35.2MB/s]\n",
      " 32%|###1      | 258M/812M [00:08<00:14, 40.8MB/s]\n",
      " 33%|###2      | 265M/812M [00:08<00:16, 34.1MB/s]\n",
      " 33%|###3      | 270M/812M [00:08<00:14, 38.0MB/s]\n",
      " 34%|###3      | 275M/812M [00:09<00:18, 29.7MB/s]\n",
      " 35%|###4      | 283M/812M [00:09<00:15, 36.6MB/s]\n",
      " 36%|###5      | 291M/812M [00:09<00:12, 43.7MB/s]\n",
      " 37%|###6      | 297M/812M [00:09<00:14, 36.6MB/s]\n",
      " 37%|###7      | 304M/812M [00:09<00:12, 42.3MB/s]\n",
      " 38%|###8      | 310M/812M [00:10<00:15, 33.5MB/s]\n",
      " 39%|###9      | 318M/812M [00:10<00:12, 40.5MB/s]\n",
      " 40%|####      | 326M/812M [00:10<00:10, 47.3MB/s]\n",
      " 41%|####      | 332M/812M [00:10<00:22, 22.3MB/s]\n",
      " 41%|####1     | 337M/812M [00:10<00:18, 26.7MB/s]\n",
      " 42%|####2     | 344M/812M [00:11<00:14, 32.8MB/s]\n",
      " 43%|####3     | 352M/812M [00:11<00:12, 39.8MB/s]\n",
      " 44%|####4     | 360M/812M [00:11<00:10, 46.7MB/s]\n",
      " 45%|####5     | 367M/812M [00:11<00:11, 40.6MB/s]\n",
      " 46%|####5     | 373M/812M [00:12<00:19, 23.6MB/s]\n",
      " 47%|####6     | 378M/812M [00:12<00:19, 23.9MB/s]\n",
      " 47%|####7     | 383M/812M [00:12<00:15, 28.4MB/s]\n",
      " 48%|####7     | 387M/812M [00:12<00:15, 28.3MB/s]\n",
      " 48%|####8     | 392M/812M [00:12<00:14, 30.7MB/s]\n",
      " 49%|####8     | 396M/812M [00:12<00:14, 30.1MB/s]\n",
      " 50%|####9     | 404M/812M [00:12<00:11, 37.0MB/s]\n",
      " 50%|#####     | 409M/812M [00:13<00:11, 38.1MB/s]\n",
      " 51%|#####     | 414M/812M [00:13<00:11, 35.5MB/s]\n",
      " 51%|#####1    | 418M/812M [00:13<00:15, 27.0MB/s]\n",
      " 52%|#####2    | 426M/812M [00:13<00:12, 33.7MB/s]\n",
      " 53%|#####3    | 434M/812M [00:13<00:09, 40.6MB/s]\n",
      " 54%|#####4    | 440M/812M [00:14<00:17, 22.9MB/s]\n",
      " 55%|#####4    | 445M/812M [00:14<00:15, 24.9MB/s]\n",
      " 55%|#####5    | 449M/812M [00:14<00:15, 25.2MB/s]\n",
      " 56%|#####6    | 456M/812M [00:14<00:12, 31.0MB/s]\n",
      " 57%|#####7    | 464M/812M [00:14<00:10, 35.4MB/s]\n",
      " 58%|#####7    | 469M/812M [00:15<00:14, 24.4MB/s]\n",
      " 59%|#####8    | 477M/812M [00:15<00:11, 30.8MB/s]\n",
      " 59%|#####9    | 482M/812M [00:15<00:09, 35.0MB/s]\n",
      " 60%|#####9    | 487M/812M [00:15<00:14, 23.3MB/s]\n",
      " 61%|######    | 495M/812M [00:15<00:11, 29.6MB/s]\n",
      " 62%|######1   | 503M/812M [00:16<00:08, 36.4MB/s]\n",
      " 63%|######2   | 511M/812M [00:16<00:07, 43.4MB/s]\n",
      " 64%|######3   | 518M/812M [00:16<00:07, 39.6MB/s]\n",
      " 65%|######4   | 524M/812M [00:16<00:10, 30.0MB/s]\n",
      " 66%|######5   | 532M/812M [00:16<00:07, 36.8MB/s]\n",
      " 66%|######6   | 540M/812M [00:16<00:07, 38.3MB/s]\n",
      " 67%|######7   | 545M/812M [00:17<00:15, 18.2MB/s]\n",
      " 68%|######7   | 549M/812M [00:17<00:12, 21.7MB/s]\n",
      " 68%|######8   | 555M/812M [00:17<00:10, 26.7MB/s]\n",
      " 69%|######9   | 561M/812M [00:18<00:08, 29.4MB/s]\n",
      " 70%|######9   | 567M/812M [00:18<00:07, 32.3MB/s]\n",
      " 70%|#######   | 572M/812M [00:18<00:10, 24.6MB/s]\n",
      " 71%|#######1  | 580M/812M [00:18<00:07, 31.0MB/s]\n",
      " 72%|#######2  | 586M/812M [00:18<00:07, 33.2MB/s]\n",
      " 73%|#######2  | 591M/812M [00:19<00:10, 21.4MB/s]\n",
      " 73%|#######3  | 595M/812M [00:19<00:09, 23.6MB/s]\n",
      " 74%|#######3  | 599M/812M [00:19<00:09, 23.7MB/s]\n",
      " 74%|#######4  | 605M/812M [00:19<00:07, 29.0MB/s]\n",
      " 75%|#######5  | 610M/812M [00:20<00:10, 19.9MB/s]\n",
      " 76%|#######5  | 617M/812M [00:20<00:08, 25.4MB/s]\n",
      " 77%|#######6  | 624M/812M [00:20<00:06, 28.5MB/s]\n",
      " 78%|#######7  | 630M/812M [00:20<00:06, 29.6MB/s]\n",
      " 78%|#######8  | 634M/812M [00:20<00:07, 25.7MB/s]\n",
      " 79%|#######9  | 642M/812M [00:20<00:05, 32.2MB/s]\n",
      " 80%|########  | 650M/812M [00:20<00:04, 39.1MB/s]\n",
      " 81%|########  | 656M/812M [00:21<00:07, 22.5MB/s]\n",
      " 81%|########1 | 661M/812M [00:21<00:06, 24.6MB/s]\n",
      " 82%|########1 | 665M/812M [00:21<00:06, 23.9MB/s]\n",
      " 83%|########2 | 672M/812M [00:22<00:04, 29.5MB/s]\n",
      " 84%|########3 | 679M/812M [00:22<00:04, 33.0MB/s]\n",
      " 84%|########4 | 685M/812M [00:22<00:03, 38.2MB/s]\n",
      " 85%|########4 | 690M/812M [00:22<00:05, 23.6MB/s]\n",
      " 86%|########5 | 695M/812M [00:22<00:04, 24.8MB/s]\n",
      " 86%|########6 | 699M/812M [00:23<00:07, 16.8MB/s]\n",
      " 87%|########6 | 704M/812M [00:23<00:05, 21.0MB/s]\n",
      " 87%|########7 | 708M/812M [00:23<00:05, 18.8MB/s]\n",
      " 88%|########7 | 713M/812M [00:23<00:04, 23.1MB/s]\n",
      " 88%|########8 | 717M/812M [00:24<00:05, 17.3MB/s]\n",
      " 89%|########9 | 724M/812M [00:24<00:04, 22.5MB/s]\n",
      " 90%|########9 | 728M/812M [00:24<00:04, 19.0MB/s]\n",
      " 91%|######### | 736M/812M [00:24<00:03, 24.6MB/s]\n",
      " 92%|#########1| 744M/812M [00:24<00:02, 31.0MB/s]\n",
      " 92%|#########2| 750M/812M [00:25<00:02, 25.0MB/s]\n",
      " 93%|#########3| 757M/812M [00:25<00:01, 29.3MB/s]\n",
      " 94%|#########3| 763M/812M [00:25<00:01, 32.1MB/s]\n",
      " 95%|#########4| 768M/812M [00:25<00:01, 24.1MB/s]\n",
      " 95%|#########5| 772M/812M [00:25<00:01, 26.1MB/s]\n",
      " 96%|#########5| 778M/812M [00:26<00:01, 31.4MB/s]\n",
      " 97%|#########6| 786M/812M [00:26<00:00, 38.4MB/s]\n",
      " 98%|#########7| 794M/812M [00:26<00:00, 45.3MB/s]\n",
      " 99%|#########8| 800M/812M [00:26<00:00, 34.5MB/s]\n",
      " 99%|#########9| 805M/812M [00:26<00:00, 24.2MB/s]\n",
      "100%|#########9| 809M/812M [00:27<00:00, 23.5MB/s]\n",
      "100%|##########| 812M/812M [00:27<00:00, 31.3MB/s]\n"
     ]
    }
   ],
   "source": [
    "!kaggle competitions download -c dogs-vs-cats"
   ]
  },
  {
   "cell_type": "code",
   "execution_count": 28,
   "metadata": {
    "ExecuteTime": {
     "end_time": "2020-12-12T17:33:56.984214Z",
     "start_time": "2020-12-12T17:33:56.972246Z"
    }
   },
   "outputs": [],
   "source": [
    "import zipfile\n",
    "import os\n",
    "filename = \"dogs-vs-cats.zip\"\n",
    "dir_ = \"data\""
   ]
  },
  {
   "cell_type": "code",
   "execution_count": 13,
   "metadata": {
    "ExecuteTime": {
     "end_time": "2020-12-12T13:32:03.737011Z",
     "start_time": "2020-12-12T13:32:00.883468Z"
    }
   },
   "outputs": [],
   "source": [
    "filename = \"dogs-vs-cats.zip\"\n",
    "dir_ = \"data\"\n",
    "\n",
    "with zipfile.ZipFile(filename) as file:\n",
    "    file.extractall(dir_)\n",
    "\n",
    "os.remove(filename)"
   ]
  },
  {
   "cell_type": "code",
   "execution_count": 17,
   "metadata": {
    "ExecuteTime": {
     "end_time": "2020-12-12T13:43:20.587287Z",
     "start_time": "2020-12-12T13:42:33.004391Z"
    }
   },
   "outputs": [],
   "source": [
    "filename_train = os.path.join(dir_, \"train.zip\")\n",
    "filename_test = os.path.join(dir_, \"test1.zip\")\n",
    "\n",
    "with zipfile.ZipFile(filename_train) as file:\n",
    "    file.extractall(dir_)\n",
    "with zipfile.ZipFile(filename_test) as file:\n",
    "    file.extractall(dir_)\n",
    "\n",
    "os.remove(filename_train)\n",
    "os.remove(filename_test)"
   ]
  },
  {
   "cell_type": "markdown",
   "metadata": {},
   "source": [
    "# Preprocesamiento"
   ]
  },
  {
   "cell_type": "code",
   "execution_count": 33,
   "metadata": {
    "ExecuteTime": {
     "end_time": "2020-12-12T17:34:45.067706Z",
     "start_time": "2020-12-12T17:34:45.053744Z"
    }
   },
   "outputs": [],
   "source": [
    "import pandas as pd\n",
    "import os\n",
    "import random\n",
    "from keras.preprocessing.image import ImageDataGenerator, load_img\n",
    "import matplotlib.pyplot as plt\n",
    "\n",
    "dir_ = \"data\"\n",
    "train = \"train\"\n",
    "test = \"test1\""
   ]
  },
  {
   "cell_type": "code",
   "execution_count": 11,
   "metadata": {
    "ExecuteTime": {
     "end_time": "2020-12-12T17:20:04.071777Z",
     "start_time": "2020-12-12T17:20:04.002420Z"
    }
   },
   "outputs": [
    {
     "name": "stdout",
     "output_type": "stream",
     "text": [
      "25000\n"
     ]
    },
    {
     "data": {
      "text/html": [
       "<div>\n",
       "<style scoped>\n",
       "    .dataframe tbody tr th:only-of-type {\n",
       "        vertical-align: middle;\n",
       "    }\n",
       "\n",
       "    .dataframe tbody tr th {\n",
       "        vertical-align: top;\n",
       "    }\n",
       "\n",
       "    .dataframe thead th {\n",
       "        text-align: right;\n",
       "    }\n",
       "</style>\n",
       "<table border=\"1\" class=\"dataframe\">\n",
       "  <thead>\n",
       "    <tr style=\"text-align: right;\">\n",
       "      <th></th>\n",
       "      <th>filename</th>\n",
       "      <th>category</th>\n",
       "    </tr>\n",
       "  </thead>\n",
       "  <tbody>\n",
       "    <tr>\n",
       "      <th>0</th>\n",
       "      <td>cat.0.jpg</td>\n",
       "      <td>0</td>\n",
       "    </tr>\n",
       "    <tr>\n",
       "      <th>1</th>\n",
       "      <td>cat.1.jpg</td>\n",
       "      <td>0</td>\n",
       "    </tr>\n",
       "    <tr>\n",
       "      <th>2</th>\n",
       "      <td>cat.10.jpg</td>\n",
       "      <td>0</td>\n",
       "    </tr>\n",
       "    <tr>\n",
       "      <th>3</th>\n",
       "      <td>cat.100.jpg</td>\n",
       "      <td>0</td>\n",
       "    </tr>\n",
       "    <tr>\n",
       "      <th>4</th>\n",
       "      <td>cat.1000.jpg</td>\n",
       "      <td>0</td>\n",
       "    </tr>\n",
       "  </tbody>\n",
       "</table>\n",
       "</div>"
      ],
      "text/plain": [
       "       filename  category\n",
       "0     cat.0.jpg         0\n",
       "1     cat.1.jpg         0\n",
       "2    cat.10.jpg         0\n",
       "3   cat.100.jpg         0\n",
       "4  cat.1000.jpg         0"
      ]
     },
     "metadata": {},
     "output_type": "display_data"
    },
    {
     "data": {
      "text/html": [
       "<div>\n",
       "<style scoped>\n",
       "    .dataframe tbody tr th:only-of-type {\n",
       "        vertical-align: middle;\n",
       "    }\n",
       "\n",
       "    .dataframe tbody tr th {\n",
       "        vertical-align: top;\n",
       "    }\n",
       "\n",
       "    .dataframe thead th {\n",
       "        text-align: right;\n",
       "    }\n",
       "</style>\n",
       "<table border=\"1\" class=\"dataframe\">\n",
       "  <thead>\n",
       "    <tr style=\"text-align: right;\">\n",
       "      <th></th>\n",
       "      <th>filename</th>\n",
       "      <th>category</th>\n",
       "    </tr>\n",
       "  </thead>\n",
       "  <tbody>\n",
       "    <tr>\n",
       "      <th>24995</th>\n",
       "      <td>dog.9995.jpg</td>\n",
       "      <td>1</td>\n",
       "    </tr>\n",
       "    <tr>\n",
       "      <th>24996</th>\n",
       "      <td>dog.9996.jpg</td>\n",
       "      <td>1</td>\n",
       "    </tr>\n",
       "    <tr>\n",
       "      <th>24997</th>\n",
       "      <td>dog.9997.jpg</td>\n",
       "      <td>1</td>\n",
       "    </tr>\n",
       "    <tr>\n",
       "      <th>24998</th>\n",
       "      <td>dog.9998.jpg</td>\n",
       "      <td>1</td>\n",
       "    </tr>\n",
       "    <tr>\n",
       "      <th>24999</th>\n",
       "      <td>dog.9999.jpg</td>\n",
       "      <td>1</td>\n",
       "    </tr>\n",
       "  </tbody>\n",
       "</table>\n",
       "</div>"
      ],
      "text/plain": [
       "           filename  category\n",
       "24995  dog.9995.jpg         1\n",
       "24996  dog.9996.jpg         1\n",
       "24997  dog.9997.jpg         1\n",
       "24998  dog.9998.jpg         1\n",
       "24999  dog.9999.jpg         1"
      ]
     },
     "execution_count": 11,
     "metadata": {},
     "output_type": "execute_result"
    }
   ],
   "source": [
    "filenames = os.listdir(\"data/train\")\n",
    "print(len(filenames))\n",
    "\n",
    "df = pd.DataFrame({'filename': filenames})\n",
    "\n",
    "df['category'] = df.filename.apply(lambda name: 1 if name.split('.')[0]==\"dog\" else 0 )\n",
    "\n",
    "display(df.head())\n",
    "df.tail()"
   ]
  },
  {
   "cell_type": "code",
   "execution_count": 12,
   "metadata": {
    "ExecuteTime": {
     "end_time": "2020-12-12T17:20:07.500460Z",
     "start_time": "2020-12-12T17:20:07.417681Z"
    }
   },
   "outputs": [
    {
     "data": {
      "text/plain": [
       "<matplotlib.axes._subplots.AxesSubplot at 0x249df74bdc0>"
      ]
     },
     "execution_count": 12,
     "metadata": {},
     "output_type": "execute_result"
    },
    {
     "data": {
      "image/png": "[encoded data removed]",
      "text/plain": [
       "<Figure size 432x288 with 1 Axes>"
      ]
     },
     "metadata": {
      "needs_background": "light"
     },
     "output_type": "display_data"
    }
   ],
   "source": [
    "df['category'].value_counts().plot.bar()"
   ]
  },
  {
   "cell_type": "code",
   "execution_count": 35,
   "metadata": {
    "ExecuteTime": {
     "end_time": "2020-12-12T17:34:49.479708Z",
     "start_time": "2020-12-12T17:34:49.360029Z"
    }
   },
   "outputs": [
    {
     "data": {
      "text/plain": [
       "<matplotlib.image.AxesImage at 0x249e68be5b0>"
      ]
     },
     "execution_count": 35,
     "metadata": {},
     "output_type": "execute_result"
    },
    {
     "data": {
      "image/png": "[encoded data removed]",
      "text/plain": [
       "<Figure size 432x288 with 1 Axes>"
      ]
     },
     "metadata": {
      "needs_background": "light"
     },
     "output_type": "display_data"
    }
   ],
   "source": [
    "sample = random.choice(filenames)\n",
    "image = load_img(os.path.join(dir_, train, sample))\n",
    "plt.imshow(image)"
   ]
  },
  {
   "cell_type": "code",
   "execution_count": 38,
   "metadata": {
    "ExecuteTime": {
     "end_time": "2020-12-12T17:41:20.085394Z",
     "start_time": "2020-12-12T17:41:19.392074Z"
    }
   },
   "outputs": [],
   "source": [
    "df.to_csv('pics.csv',index=False)"
   ]
  }
 ],
 "metadata": {
  "hide_input": false,
  "kernelspec": {
   "display_name": "Python 3",
   "language": "python",
   "name": "python3"
  },
  "language_info": {
   "codemirror_mode": {
    "name": "ipython",
    "version": 3
   },
   "file_extension": ".py",
   "mimetype": "text/x-python",
   "name": "python",
   "nbconvert_exporter": "python",
   "pygments_lexer": "ipython3",
   "version": "3.8.3"
  },
  "toc": {
   "base_numbering": 1,
   "nav_menu": {},
   "number_sections": false,
   "sideBar": true,
   "skip_h1_title": false,
   "title_cell": "Table of Contents",
   "title_sidebar": "Contents",
   "toc_cell": false,
   "toc_position": {},
   "toc_section_display": true,
   "toc_window_display": false
  },
  "varInspector": {
   "cols": {
    "lenName": 16,
    "lenType": 16,
    "lenVar": 40
   },
   "kernels_config": {
    "python": {
     "delete_cmd_postfix": "",
     "delete_cmd_prefix": "del ",
     "library": "var_list.py",
     "varRefreshCmd": "print(var_dic_list())"
    },
    "r": {
     "delete_cmd_postfix": ") ",
     "delete_cmd_prefix": "rm(",
     "library": "var_list.r",
     "varRefreshCmd": "cat(var_dic_list()) "
    }
   },
   "types_to_exclude": [
    "module",
    "function",
    "builtin_function_or_method",
    "instance",
    "_Feature"
   ],
   "window_display": false
  }
 },
 "nbformat": 4,
 "nbformat_minor": 4
}
